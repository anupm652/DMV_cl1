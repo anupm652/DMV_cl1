{
 "cells": [
  {
   "cell_type": "code",
   "execution_count": 1,
   "metadata": {},
   "outputs": [],
   "source": [
    "import pandas as pd"
   ]
  },
  {
   "cell_type": "code",
   "execution_count": 2,
   "metadata": {},
   "outputs": [
    {
     "data": {
      "text/html": [
       "<div>\n",
       "<style scoped>\n",
       "    .dataframe tbody tr th:only-of-type {\n",
       "        vertical-align: middle;\n",
       "    }\n",
       "\n",
       "    .dataframe tbody tr th {\n",
       "        vertical-align: top;\n",
       "    }\n",
       "\n",
       "    .dataframe thead th {\n",
       "        text-align: right;\n",
       "    }\n",
       "</style>\n",
       "<table border=\"1\" class=\"dataframe\">\n",
       "  <thead>\n",
       "    <tr style=\"text-align: right;\">\n",
       "      <th></th>\n",
       "      <th>Prop_id</th>\n",
       "      <th>prop_type</th>\n",
       "      <th>Neighborhood</th>\n",
       "      <th>Bedrooms</th>\n",
       "      <th>Bathrooms</th>\n",
       "      <th>Sq_ft</th>\n",
       "      <th>Year_built</th>\n",
       "      <th>sale_price</th>\n",
       "    </tr>\n",
       "  </thead>\n",
       "  <tbody>\n",
       "    <tr>\n",
       "      <th>0</th>\n",
       "      <td>1</td>\n",
       "      <td>Condo</td>\n",
       "      <td>Rural</td>\n",
       "      <td>4</td>\n",
       "      <td>4</td>\n",
       "      <td>1934</td>\n",
       "      <td>2016</td>\n",
       "      <td>275729</td>\n",
       "    </tr>\n",
       "    <tr>\n",
       "      <th>1</th>\n",
       "      <td>2</td>\n",
       "      <td>House</td>\n",
       "      <td>Rural</td>\n",
       "      <td>1</td>\n",
       "      <td>1</td>\n",
       "      <td>1402</td>\n",
       "      <td>2022</td>\n",
       "      <td>134265</td>\n",
       "    </tr>\n",
       "    <tr>\n",
       "      <th>2</th>\n",
       "      <td>3</td>\n",
       "      <td>House</td>\n",
       "      <td>Suburb B</td>\n",
       "      <td>4</td>\n",
       "      <td>4</td>\n",
       "      <td>1463</td>\n",
       "      <td>1988</td>\n",
       "      <td>291206</td>\n",
       "    </tr>\n",
       "    <tr>\n",
       "      <th>3</th>\n",
       "      <td>4</td>\n",
       "      <td>Appartment</td>\n",
       "      <td>Downtown</td>\n",
       "      <td>2</td>\n",
       "      <td>1</td>\n",
       "      <td>2497</td>\n",
       "      <td>1988</td>\n",
       "      <td>208841</td>\n",
       "    </tr>\n",
       "    <tr>\n",
       "      <th>4</th>\n",
       "      <td>5</td>\n",
       "      <td>Appartment</td>\n",
       "      <td>Suburb B</td>\n",
       "      <td>2</td>\n",
       "      <td>4</td>\n",
       "      <td>1787</td>\n",
       "      <td>1984</td>\n",
       "      <td>192586</td>\n",
       "    </tr>\n",
       "    <tr>\n",
       "      <th>...</th>\n",
       "      <td>...</td>\n",
       "      <td>...</td>\n",
       "      <td>...</td>\n",
       "      <td>...</td>\n",
       "      <td>...</td>\n",
       "      <td>...</td>\n",
       "      <td>...</td>\n",
       "      <td>...</td>\n",
       "    </tr>\n",
       "    <tr>\n",
       "      <th>95</th>\n",
       "      <td>96</td>\n",
       "      <td>Appartment</td>\n",
       "      <td>Rural</td>\n",
       "      <td>2</td>\n",
       "      <td>3</td>\n",
       "      <td>2488</td>\n",
       "      <td>1982</td>\n",
       "      <td>183387</td>\n",
       "    </tr>\n",
       "    <tr>\n",
       "      <th>96</th>\n",
       "      <td>97</td>\n",
       "      <td>House</td>\n",
       "      <td>Suburb B</td>\n",
       "      <td>2</td>\n",
       "      <td>4</td>\n",
       "      <td>2812</td>\n",
       "      <td>2015</td>\n",
       "      <td>173658</td>\n",
       "    </tr>\n",
       "    <tr>\n",
       "      <th>97</th>\n",
       "      <td>98</td>\n",
       "      <td>House</td>\n",
       "      <td>Rural</td>\n",
       "      <td>4</td>\n",
       "      <td>1</td>\n",
       "      <td>2423</td>\n",
       "      <td>1983</td>\n",
       "      <td>273458</td>\n",
       "    </tr>\n",
       "    <tr>\n",
       "      <th>98</th>\n",
       "      <td>99</td>\n",
       "      <td>House</td>\n",
       "      <td>Downtown</td>\n",
       "      <td>1</td>\n",
       "      <td>1</td>\n",
       "      <td>2891</td>\n",
       "      <td>2000</td>\n",
       "      <td>156762</td>\n",
       "    </tr>\n",
       "    <tr>\n",
       "      <th>99</th>\n",
       "      <td>100</td>\n",
       "      <td>House</td>\n",
       "      <td>Suburb B</td>\n",
       "      <td>2</td>\n",
       "      <td>2</td>\n",
       "      <td>1794</td>\n",
       "      <td>2022</td>\n",
       "      <td>263142</td>\n",
       "    </tr>\n",
       "  </tbody>\n",
       "</table>\n",
       "<p>100 rows × 8 columns</p>\n",
       "</div>"
      ],
      "text/plain": [
       "    Prop_id   prop_type Neighborhood  Bedrooms  Bathrooms  Sq_ft  Year_built  \\\n",
       "0         1       Condo        Rural         4          4   1934        2016   \n",
       "1         2       House        Rural         1          1   1402        2022   \n",
       "2         3       House     Suburb B         4          4   1463        1988   \n",
       "3         4  Appartment     Downtown         2          1   2497        1988   \n",
       "4         5  Appartment     Suburb B         2          4   1787        1984   \n",
       "..      ...         ...          ...       ...        ...    ...         ...   \n",
       "95       96  Appartment        Rural         2          3   2488        1982   \n",
       "96       97       House     Suburb B         2          4   2812        2015   \n",
       "97       98       House        Rural         4          1   2423        1983   \n",
       "98       99       House     Downtown         1          1   2891        2000   \n",
       "99      100       House     Suburb B         2          2   1794        2022   \n",
       "\n",
       "    sale_price  \n",
       "0       275729  \n",
       "1       134265  \n",
       "2       291206  \n",
       "3       208841  \n",
       "4       192586  \n",
       "..         ...  \n",
       "95      183387  \n",
       "96      173658  \n",
       "97      273458  \n",
       "98      156762  \n",
       "99      263142  \n",
       "\n",
       "[100 rows x 8 columns]"
      ]
     },
     "execution_count": 2,
     "metadata": {},
     "output_type": "execute_result"
    }
   ],
   "source": [
    "data = pd.read_csv('Real_estate.csv')\n",
    "data"
   ]
  },
  {
   "cell_type": "code",
   "execution_count": 3,
   "metadata": {},
   "outputs": [],
   "source": [
    "data.columns = data.columns.str.strip()\n",
    "data.columns = data.columns.str.lower()\n",
    "data.columns = data.columns.str.replace(' ', '_')"
   ]
  },
  {
   "cell_type": "code",
   "execution_count": 4,
   "metadata": {},
   "outputs": [
    {
     "data": {
      "text/plain": [
       "prop_id         0\n",
       "prop_type       0\n",
       "neighborhood    0\n",
       "bedrooms        0\n",
       "bathrooms       0\n",
       "sq_ft           0\n",
       "year_built      0\n",
       "sale_price      0\n",
       "dtype: int64"
      ]
     },
     "execution_count": 4,
     "metadata": {},
     "output_type": "execute_result"
    }
   ],
   "source": [
    "data.isnull().sum()"
   ]
  },
  {
   "cell_type": "code",
   "execution_count": 5,
   "metadata": {},
   "outputs": [],
   "source": [
    "data.drop_duplicates(inplace=True)"
   ]
  },
  {
   "cell_type": "code",
   "execution_count": 14,
   "metadata": {},
   "outputs": [],
   "source": [
    "# neighborhood_data = pd.read_csv(\"Neighborhood_Demographics.csv\")\n",
    "# data = data.merge(neighborhood_data, on='neighborhood_id', how='left')"
   ]
  },
  {
   "cell_type": "code",
   "execution_count": 19,
   "metadata": {},
   "outputs": [
    {
     "data": {
      "text/html": [
       "<div>\n",
       "<style scoped>\n",
       "    .dataframe tbody tr th:only-of-type {\n",
       "        vertical-align: middle;\n",
       "    }\n",
       "\n",
       "    .dataframe tbody tr th {\n",
       "        vertical-align: top;\n",
       "    }\n",
       "\n",
       "    .dataframe thead th {\n",
       "        text-align: right;\n",
       "    }\n",
       "</style>\n",
       "<table border=\"1\" class=\"dataframe\">\n",
       "  <thead>\n",
       "    <tr style=\"text-align: right;\">\n",
       "      <th></th>\n",
       "      <th>prop_id</th>\n",
       "      <th>prop_type</th>\n",
       "      <th>neighborhood</th>\n",
       "      <th>bedrooms</th>\n",
       "      <th>bathrooms</th>\n",
       "      <th>sq_ft</th>\n",
       "      <th>year_built</th>\n",
       "      <th>sale_price</th>\n",
       "    </tr>\n",
       "  </thead>\n",
       "  <tbody>\n",
       "    <tr>\n",
       "      <th>1</th>\n",
       "      <td>2</td>\n",
       "      <td>House</td>\n",
       "      <td>Rural</td>\n",
       "      <td>1</td>\n",
       "      <td>1</td>\n",
       "      <td>1402</td>\n",
       "      <td>2022</td>\n",
       "      <td>134265</td>\n",
       "    </tr>\n",
       "    <tr>\n",
       "      <th>99</th>\n",
       "      <td>100</td>\n",
       "      <td>House</td>\n",
       "      <td>Suburb B</td>\n",
       "      <td>2</td>\n",
       "      <td>2</td>\n",
       "      <td>1794</td>\n",
       "      <td>2022</td>\n",
       "      <td>263142</td>\n",
       "    </tr>\n",
       "  </tbody>\n",
       "</table>\n",
       "</div>"
      ],
      "text/plain": [
       "    prop_id prop_type neighborhood  bedrooms  bathrooms  sq_ft  year_built  \\\n",
       "1         2     House        Rural         1          1   1402        2022   \n",
       "99      100     House     Suburb B         2          2   1794        2022   \n",
       "\n",
       "    sale_price  \n",
       "1       134265  \n",
       "99      263142  "
      ]
     },
     "execution_count": 19,
     "metadata": {},
     "output_type": "execute_result"
    }
   ],
   "source": [
    "# Example filtering based on actual column names in your dataset\n",
    "data = data[(data['year_built'] == 2022) & (data['prop_type'] == 'House')]\n",
    "data"
   ]
  },
  {
   "cell_type": "code",
   "execution_count": 27,
   "metadata": {},
   "outputs": [
    {
     "name": "stdout",
     "output_type": "stream",
     "text": [
      "    prop_id  bedrooms  bathrooms  sq_ft  year_built  sale_price  \\\n",
      "1         2         1          1   1402        2022      134265   \n",
      "99      100         2          2   1794        2022      263142   \n",
      "\n",
      "    prop_type_House  neighborhood_Rural  neighborhood_Suburb B  \n",
      "1                 1                   1                      0  \n",
      "99                1                   0                      1  \n"
     ]
    }
   ],
   "source": [
    "df_encoded=pd.get_dummies(data,columns=['prop_type','neighborhood'])\n",
    "print(df_encoded)"
   ]
  },
  {
   "cell_type": "code",
   "execution_count": 33,
   "metadata": {},
   "outputs": [
    {
     "name": "stdout",
     "output_type": "stream",
     "text": [
      "neighborhood\n",
      "Rural       134265.0\n",
      "Suburb B    263142.0\n",
      "Name: sale_price, dtype: float64\n"
     ]
    },
    {
     "data": {
      "text/plain": [
       "prop_type\n",
       "House    198703.5\n",
       "Name: sale_price, dtype: float64"
      ]
     },
     "execution_count": 33,
     "metadata": {},
     "output_type": "execute_result"
    }
   ],
   "source": [
    "avg_price_by_neighborhood=data.groupby('neighborhood')['sale_price'].mean()\n",
    "print(avg_price_by_neighborhood)\n",
    "\n",
    "Avg_sales_prop = data.groupby('prop_type')['sale_price'].mean()\n",
    "Avg_sales_prop"
   ]
  },
  {
   "cell_type": "code",
   "execution_count": 35,
   "metadata": {},
   "outputs": [
    {
     "name": "stdout",
     "output_type": "stream",
     "text": [
      "1     False\n",
      "99    False\n",
      "Name: bathrooms, dtype: bool\n"
     ]
    }
   ],
   "source": [
    "from scipy import stats\n",
    "\n",
    "z_scores=stats.zscore(data['bathrooms'])\n",
    "threshold=3\n",
    "outliers =(z_scores>threshold) | (z_scores< -threshold)\n",
    "print(outliers)"
   ]
  },
  {
   "cell_type": "code",
   "execution_count": null,
   "metadata": {},
   "outputs": [],
   "source": []
  }
 ],
 "metadata": {
  "kernelspec": {
   "display_name": "base",
   "language": "python",
   "name": "python3"
  },
  "language_info": {
   "codemirror_mode": {
    "name": "ipython",
    "version": 3
   },
   "file_extension": ".py",
   "mimetype": "text/x-python",
   "name": "python",
   "nbconvert_exporter": "python",
   "pygments_lexer": "ipython3",
   "version": "3.9.13"
  }
 },
 "nbformat": 4,
 "nbformat_minor": 2
}
