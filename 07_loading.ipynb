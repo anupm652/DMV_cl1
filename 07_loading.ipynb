{
 "cells": [
  {
   "cell_type": "code",
   "execution_count": 11,
   "metadata": {},
   "outputs": [],
   "source": [
    "import pandas as pd\n",
    "import matplotlib.pyplot as plt"
   ]
  },
  {
   "cell_type": "code",
   "execution_count": 2,
   "metadata": {},
   "outputs": [
    {
     "data": {
      "text/html": [
       "<div>\n",
       "<style scoped>\n",
       "    .dataframe tbody tr th:only-of-type {\n",
       "        vertical-align: middle;\n",
       "    }\n",
       "\n",
       "    .dataframe tbody tr th {\n",
       "        vertical-align: top;\n",
       "    }\n",
       "\n",
       "    .dataframe thead th {\n",
       "        text-align: right;\n",
       "    }\n",
       "</style>\n",
       "<table border=\"1\" class=\"dataframe\">\n",
       "  <thead>\n",
       "    <tr style=\"text-align: right;\">\n",
       "      <th></th>\n",
       "      <th>Date</th>\n",
       "      <th>Product_Category</th>\n",
       "      <th>Quantity_Sold</th>\n",
       "      <th>Price</th>\n",
       "      <th>Sales_Amount</th>\n",
       "    </tr>\n",
       "  </thead>\n",
       "  <tbody>\n",
       "    <tr>\n",
       "      <th>0</th>\n",
       "      <td>2021-08-07</td>\n",
       "      <td>Clothing</td>\n",
       "      <td>5</td>\n",
       "      <td>22.172702</td>\n",
       "      <td>110.863508</td>\n",
       "    </tr>\n",
       "    <tr>\n",
       "      <th>1</th>\n",
       "      <td>2021-06-22</td>\n",
       "      <td>Groceries</td>\n",
       "      <td>7</td>\n",
       "      <td>56.521280</td>\n",
       "      <td>395.648958</td>\n",
       "    </tr>\n",
       "    <tr>\n",
       "      <th>2</th>\n",
       "      <td>2021-02-21</td>\n",
       "      <td>Groceries</td>\n",
       "      <td>4</td>\n",
       "      <td>13.175126</td>\n",
       "      <td>52.700504</td>\n",
       "    </tr>\n",
       "    <tr>\n",
       "      <th>3</th>\n",
       "      <td>2022-06-12</td>\n",
       "      <td>Electronics</td>\n",
       "      <td>6</td>\n",
       "      <td>50.525246</td>\n",
       "      <td>303.151474</td>\n",
       "    </tr>\n",
       "    <tr>\n",
       "      <th>4</th>\n",
       "      <td>2022-01-20</td>\n",
       "      <td>Furniture</td>\n",
       "      <td>4</td>\n",
       "      <td>34.703598</td>\n",
       "      <td>138.814393</td>\n",
       "    </tr>\n",
       "    <tr>\n",
       "      <th>...</th>\n",
       "      <td>...</td>\n",
       "      <td>...</td>\n",
       "      <td>...</td>\n",
       "      <td>...</td>\n",
       "      <td>...</td>\n",
       "    </tr>\n",
       "    <tr>\n",
       "      <th>995</th>\n",
       "      <td>2022-09-14</td>\n",
       "      <td>Clothing</td>\n",
       "      <td>5</td>\n",
       "      <td>20.437745</td>\n",
       "      <td>102.188724</td>\n",
       "    </tr>\n",
       "    <tr>\n",
       "      <th>996</th>\n",
       "      <td>2023-03-17</td>\n",
       "      <td>Clothing</td>\n",
       "      <td>10</td>\n",
       "      <td>41.310209</td>\n",
       "      <td>413.102087</td>\n",
       "    </tr>\n",
       "    <tr>\n",
       "      <th>997</th>\n",
       "      <td>2023-08-30</td>\n",
       "      <td>Groceries</td>\n",
       "      <td>9</td>\n",
       "      <td>29.348864</td>\n",
       "      <td>264.139774</td>\n",
       "    </tr>\n",
       "    <tr>\n",
       "      <th>998</th>\n",
       "      <td>2023-04-27</td>\n",
       "      <td>Furniture</td>\n",
       "      <td>3</td>\n",
       "      <td>65.382478</td>\n",
       "      <td>196.147434</td>\n",
       "    </tr>\n",
       "    <tr>\n",
       "      <th>999</th>\n",
       "      <td>2023-08-22</td>\n",
       "      <td>Clothing</td>\n",
       "      <td>7</td>\n",
       "      <td>15.155283</td>\n",
       "      <td>106.086979</td>\n",
       "    </tr>\n",
       "  </tbody>\n",
       "</table>\n",
       "<p>1000 rows × 5 columns</p>\n",
       "</div>"
      ],
      "text/plain": [
       "           Date Product_Category  Quantity_Sold      Price  Sales_Amount\n",
       "0    2021-08-07         Clothing              5  22.172702    110.863508\n",
       "1    2021-06-22        Groceries              7  56.521280    395.648958\n",
       "2    2021-02-21        Groceries              4  13.175126     52.700504\n",
       "3    2022-06-12      Electronics              6  50.525246    303.151474\n",
       "4    2022-01-20        Furniture              4  34.703598    138.814393\n",
       "..          ...              ...            ...        ...           ...\n",
       "995  2022-09-14         Clothing              5  20.437745    102.188724\n",
       "996  2023-03-17         Clothing             10  41.310209    413.102087\n",
       "997  2023-08-30        Groceries              9  29.348864    264.139774\n",
       "998  2023-04-27        Furniture              3  65.382478    196.147434\n",
       "999  2023-08-22         Clothing              7  15.155283    106.086979\n",
       "\n",
       "[1000 rows x 5 columns]"
      ]
     },
     "execution_count": 2,
     "metadata": {},
     "output_type": "execute_result"
    }
   ],
   "source": [
    "data = pd.read_csv('sales_data.csv')\n",
    "data"
   ]
  },
  {
   "cell_type": "code",
   "execution_count": 3,
   "metadata": {},
   "outputs": [
    {
     "name": "stdout",
     "output_type": "stream",
     "text": [
      "<class 'pandas.core.frame.DataFrame'>\n",
      "RangeIndex: 1000 entries, 0 to 999\n",
      "Data columns (total 5 columns):\n",
      " #   Column            Non-Null Count  Dtype  \n",
      "---  ------            --------------  -----  \n",
      " 0   Date              1000 non-null   object \n",
      " 1   Product_Category  1000 non-null   object \n",
      " 2   Quantity_Sold     1000 non-null   int64  \n",
      " 3   Price             1000 non-null   float64\n",
      " 4   Sales_Amount      1000 non-null   float64\n",
      "dtypes: float64(2), int64(1), object(2)\n",
      "memory usage: 39.2+ KB\n"
     ]
    }
   ],
   "source": [
    "data.info()"
   ]
  },
  {
   "cell_type": "code",
   "execution_count": 4,
   "metadata": {},
   "outputs": [
    {
     "data": {
      "text/html": [
       "<div>\n",
       "<style scoped>\n",
       "    .dataframe tbody tr th:only-of-type {\n",
       "        vertical-align: middle;\n",
       "    }\n",
       "\n",
       "    .dataframe tbody tr th {\n",
       "        vertical-align: top;\n",
       "    }\n",
       "\n",
       "    .dataframe thead th {\n",
       "        text-align: right;\n",
       "    }\n",
       "</style>\n",
       "<table border=\"1\" class=\"dataframe\">\n",
       "  <thead>\n",
       "    <tr style=\"text-align: right;\">\n",
       "      <th></th>\n",
       "      <th>Quantity_Sold</th>\n",
       "      <th>Price</th>\n",
       "      <th>Sales_Amount</th>\n",
       "    </tr>\n",
       "  </thead>\n",
       "  <tbody>\n",
       "    <tr>\n",
       "      <th>count</th>\n",
       "      <td>1000.000000</td>\n",
       "      <td>1000.000000</td>\n",
       "      <td>1000.000000</td>\n",
       "    </tr>\n",
       "    <tr>\n",
       "      <th>mean</th>\n",
       "      <td>5.527000</td>\n",
       "      <td>55.802756</td>\n",
       "      <td>308.097996</td>\n",
       "    </tr>\n",
       "    <tr>\n",
       "      <th>std</th>\n",
       "      <td>2.952624</td>\n",
       "      <td>26.245904</td>\n",
       "      <td>233.002812</td>\n",
       "    </tr>\n",
       "    <tr>\n",
       "      <th>min</th>\n",
       "      <td>1.000000</td>\n",
       "      <td>10.062007</td>\n",
       "      <td>10.954486</td>\n",
       "    </tr>\n",
       "    <tr>\n",
       "      <th>25%</th>\n",
       "      <td>3.000000</td>\n",
       "      <td>32.193082</td>\n",
       "      <td>121.725486</td>\n",
       "    </tr>\n",
       "    <tr>\n",
       "      <th>50%</th>\n",
       "      <td>5.000000</td>\n",
       "      <td>57.186522</td>\n",
       "      <td>244.640135</td>\n",
       "    </tr>\n",
       "    <tr>\n",
       "      <th>75%</th>\n",
       "      <td>8.000000</td>\n",
       "      <td>78.300836</td>\n",
       "      <td>449.651923</td>\n",
       "    </tr>\n",
       "    <tr>\n",
       "      <th>max</th>\n",
       "      <td>10.000000</td>\n",
       "      <td>99.789517</td>\n",
       "      <td>979.916420</td>\n",
       "    </tr>\n",
       "  </tbody>\n",
       "</table>\n",
       "</div>"
      ],
      "text/plain": [
       "       Quantity_Sold        Price  Sales_Amount\n",
       "count    1000.000000  1000.000000   1000.000000\n",
       "mean        5.527000    55.802756    308.097996\n",
       "std         2.952624    26.245904    233.002812\n",
       "min         1.000000    10.062007     10.954486\n",
       "25%         3.000000    32.193082    121.725486\n",
       "50%         5.000000    57.186522    244.640135\n",
       "75%         8.000000    78.300836    449.651923\n",
       "max        10.000000    99.789517    979.916420"
      ]
     },
     "execution_count": 4,
     "metadata": {},
     "output_type": "execute_result"
    }
   ],
   "source": [
    "data.describe()"
   ]
  },
  {
   "cell_type": "code",
   "execution_count": 5,
   "metadata": {},
   "outputs": [
    {
     "data": {
      "text/plain": [
       "Date                0\n",
       "Product_Category    0\n",
       "Quantity_Sold       0\n",
       "Price               0\n",
       "Sales_Amount        0\n",
       "dtype: int64"
      ]
     },
     "execution_count": 5,
     "metadata": {},
     "output_type": "execute_result"
    }
   ],
   "source": [
    "data.isnull().sum()"
   ]
  },
  {
   "cell_type": "code",
   "execution_count": 6,
   "metadata": {},
   "outputs": [
    {
     "data": {
      "text/html": [
       "<div>\n",
       "<style scoped>\n",
       "    .dataframe tbody tr th:only-of-type {\n",
       "        vertical-align: middle;\n",
       "    }\n",
       "\n",
       "    .dataframe tbody tr th {\n",
       "        vertical-align: top;\n",
       "    }\n",
       "\n",
       "    .dataframe thead th {\n",
       "        text-align: right;\n",
       "    }\n",
       "</style>\n",
       "<table border=\"1\" class=\"dataframe\">\n",
       "  <thead>\n",
       "    <tr style=\"text-align: right;\">\n",
       "      <th></th>\n",
       "      <th>Date</th>\n",
       "      <th>Product_Category</th>\n",
       "      <th>Quantity_Sold</th>\n",
       "      <th>Price</th>\n",
       "      <th>Sales_Amount</th>\n",
       "    </tr>\n",
       "  </thead>\n",
       "  <tbody>\n",
       "    <tr>\n",
       "      <th>0</th>\n",
       "      <td>2021-08-07</td>\n",
       "      <td>Clothing</td>\n",
       "      <td>5</td>\n",
       "      <td>22.172702</td>\n",
       "      <td>110.863508</td>\n",
       "    </tr>\n",
       "    <tr>\n",
       "      <th>1</th>\n",
       "      <td>2021-06-22</td>\n",
       "      <td>Groceries</td>\n",
       "      <td>7</td>\n",
       "      <td>56.521280</td>\n",
       "      <td>395.648958</td>\n",
       "    </tr>\n",
       "    <tr>\n",
       "      <th>2</th>\n",
       "      <td>2021-02-21</td>\n",
       "      <td>Groceries</td>\n",
       "      <td>4</td>\n",
       "      <td>13.175126</td>\n",
       "      <td>52.700504</td>\n",
       "    </tr>\n",
       "    <tr>\n",
       "      <th>3</th>\n",
       "      <td>2022-06-12</td>\n",
       "      <td>Electronics</td>\n",
       "      <td>6</td>\n",
       "      <td>50.525246</td>\n",
       "      <td>303.151474</td>\n",
       "    </tr>\n",
       "    <tr>\n",
       "      <th>4</th>\n",
       "      <td>2022-01-20</td>\n",
       "      <td>Furniture</td>\n",
       "      <td>4</td>\n",
       "      <td>34.703598</td>\n",
       "      <td>138.814393</td>\n",
       "    </tr>\n",
       "    <tr>\n",
       "      <th>...</th>\n",
       "      <td>...</td>\n",
       "      <td>...</td>\n",
       "      <td>...</td>\n",
       "      <td>...</td>\n",
       "      <td>...</td>\n",
       "    </tr>\n",
       "    <tr>\n",
       "      <th>995</th>\n",
       "      <td>2022-09-14</td>\n",
       "      <td>Clothing</td>\n",
       "      <td>5</td>\n",
       "      <td>20.437745</td>\n",
       "      <td>102.188724</td>\n",
       "    </tr>\n",
       "    <tr>\n",
       "      <th>996</th>\n",
       "      <td>2023-03-17</td>\n",
       "      <td>Clothing</td>\n",
       "      <td>10</td>\n",
       "      <td>41.310209</td>\n",
       "      <td>413.102087</td>\n",
       "    </tr>\n",
       "    <tr>\n",
       "      <th>997</th>\n",
       "      <td>2023-08-30</td>\n",
       "      <td>Groceries</td>\n",
       "      <td>9</td>\n",
       "      <td>29.348864</td>\n",
       "      <td>264.139774</td>\n",
       "    </tr>\n",
       "    <tr>\n",
       "      <th>998</th>\n",
       "      <td>2023-04-27</td>\n",
       "      <td>Furniture</td>\n",
       "      <td>3</td>\n",
       "      <td>65.382478</td>\n",
       "      <td>196.147434</td>\n",
       "    </tr>\n",
       "    <tr>\n",
       "      <th>999</th>\n",
       "      <td>2023-08-22</td>\n",
       "      <td>Clothing</td>\n",
       "      <td>7</td>\n",
       "      <td>15.155283</td>\n",
       "      <td>106.086979</td>\n",
       "    </tr>\n",
       "  </tbody>\n",
       "</table>\n",
       "<p>1000 rows × 5 columns</p>\n",
       "</div>"
      ],
      "text/plain": [
       "           Date Product_Category  Quantity_Sold      Price  Sales_Amount\n",
       "0    2021-08-07         Clothing              5  22.172702    110.863508\n",
       "1    2021-06-22        Groceries              7  56.521280    395.648958\n",
       "2    2021-02-21        Groceries              4  13.175126     52.700504\n",
       "3    2022-06-12      Electronics              6  50.525246    303.151474\n",
       "4    2022-01-20        Furniture              4  34.703598    138.814393\n",
       "..          ...              ...            ...        ...           ...\n",
       "995  2022-09-14         Clothing              5  20.437745    102.188724\n",
       "996  2023-03-17         Clothing             10  41.310209    413.102087\n",
       "997  2023-08-30        Groceries              9  29.348864    264.139774\n",
       "998  2023-04-27        Furniture              3  65.382478    196.147434\n",
       "999  2023-08-22         Clothing              7  15.155283    106.086979\n",
       "\n",
       "[1000 rows x 5 columns]"
      ]
     },
     "execution_count": 6,
     "metadata": {},
     "output_type": "execute_result"
    }
   ],
   "source": [
    "data.drop_duplicates()"
   ]
  },
  {
   "cell_type": "code",
   "execution_count": 7,
   "metadata": {},
   "outputs": [],
   "source": [
    "data.dropna(inplace=True)\n",
    "data.drop_duplicates(inplace=True)"
   ]
  },
  {
   "cell_type": "code",
   "execution_count": 8,
   "metadata": {},
   "outputs": [],
   "source": [
    "unified_data = pd.concat([data], ignore_index=True)"
   ]
  },
  {
   "cell_type": "code",
   "execution_count": 9,
   "metadata": {},
   "outputs": [],
   "source": [
    "unified_data['Total_Amount'] = unified_data['Quantity_Sold'] * unified_data['Price']"
   ]
  },
  {
   "cell_type": "code",
   "execution_count": 12,
   "metadata": {},
   "outputs": [
    {
     "name": "stdout",
     "output_type": "stream",
     "text": [
      "Product_Category\n",
      "Clothing       74501.997243\n",
      "Electronics    78747.897152\n",
      "Furniture      79433.276762\n",
      "Groceries      75414.824625\n",
      "Name: Total_Amount, dtype: float64\n"
     ]
    }
   ],
   "source": [
    "# category_sales = unified_data.groupby('Product_Category')['Sales_Amount'].sum()\n",
    "# average_order_value = unified_data.groupby('Product_Category')['Total_Amount'].mean()\n",
    "# Data analysis example\n",
    "product_sales = unified_data.groupby('Product_Category')['Total_Amount'].sum()\n",
    "print(product_sales)"
   ]
  },
  {
   "cell_type": "code",
   "execution_count": 15,
   "metadata": {},
   "outputs": [
    {
     "data": {
      "image/png": "[encoded data removed]",
      "text/plain": [
       "<Figure size 640x480 with 1 Axes>"
      ]
     },
     "metadata": {},
     "output_type": "display_data"
    }
   ],
   "source": [
    "# plt.figure(figsize=(8, 10))\n",
    "product_sales.plot(kind='bar')\n",
    "plt.title('Total Sales by Product')\n",
    "plt.xlabel('Product')\n",
    "plt.ylabel('Total Sales')\n",
    "plt.show()"
   ]
  },
  {
   "cell_type": "code",
   "execution_count": null,
   "metadata": {},
   "outputs": [],
   "source": []
  }
 ],
 "metadata": {
  "kernelspec": {
   "display_name": "base",
   "language": "python",
   "name": "python3"
  },
  "language_info": {
   "codemirror_mode": {
    "name": "ipython",
    "version": 3
   },
   "file_extension": ".py",
   "mimetype": "text/x-python",
   "name": "python",
   "nbconvert_exporter": "python",
   "pygments_lexer": "ipython3",
   "version": "3.9.13"
  }
 },
 "nbformat": 4,
 "nbformat_minor": 2
}
